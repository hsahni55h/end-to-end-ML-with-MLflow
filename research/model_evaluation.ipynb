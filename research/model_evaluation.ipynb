{
 "cells": [
  {
   "cell_type": "code",
   "execution_count": 1,
   "metadata": {},
   "outputs": [],
   "source": [
    "import mlflow\n",
    "import os\n",
    "from urllib.parse import urlparse"
   ]
  },
  {
   "cell_type": "code",
   "execution_count": 2,
   "metadata": {},
   "outputs": [
    {
     "data": {
      "text/plain": [
       "'/home/himanshu/github_himanshu/end-to-end-ML-with-MLflow/research'"
      ]
     },
     "execution_count": 2,
     "metadata": {},
     "output_type": "execute_result"
    }
   ],
   "source": [
    "%pwd"
   ]
  },
  {
   "cell_type": "code",
   "execution_count": 3,
   "metadata": {},
   "outputs": [],
   "source": [
    "os.chdir(\"../\")"
   ]
  },
  {
   "cell_type": "code",
   "execution_count": 4,
   "metadata": {},
   "outputs": [
    {
     "data": {
      "text/plain": [
       "'/home/himanshu/github_himanshu/end-to-end-ML-with-MLflow'"
      ]
     },
     "execution_count": 4,
     "metadata": {},
     "output_type": "execute_result"
    }
   ],
   "source": [
    "%pwd"
   ]
  },
  {
   "cell_type": "code",
   "execution_count": 5,
   "metadata": {},
   "outputs": [],
   "source": [
    "# Set the MLflow tracking URI to your DagsHub repository\n",
    "mlflow.set_tracking_uri(\"https://dagshub.com/h.sahni1998/end-to-end-ML-with-MLflow.mlflow\")\n",
    "\n",
    "# Set the authentication token (ensure no trailing spaces)\n",
    "os.environ[\"MLFLOW_TRACKING_USERNAME\"] = \"h.sahni1998\"\n",
    "os.environ[\"MLFLOW_TRACKING_PASSWORD\"] = \"0dbf3973dc39db1bcd38323686b0d68db93c4655\""
   ]
  },
  {
   "cell_type": "code",
   "execution_count": 6,
   "metadata": {},
   "outputs": [
    {
     "name": "stdout",
     "output_type": "stream",
     "text": [
      "MLFLOW_TRACKING_USERNAME: h.sahni1998\n",
      "MLFLOW_TRACKING_PASSWORD: 0dbf3973dc39db1bcd38323686b0d68db93c4655\n",
      "MLFLOW_TRACKING_URI: https://dagshub.com/h.sahni1998/end-to-end-ML-with-MLflow.mlflow\n"
     ]
    }
   ],
   "source": [
    "print(\"MLFLOW_TRACKING_USERNAME:\", os.environ.get(\"MLFLOW_TRACKING_USERNAME\"))\n",
    "print(\"MLFLOW_TRACKING_PASSWORD:\", os.environ.get(\"MLFLOW_TRACKING_PASSWORD\"))\n",
    "print(\"MLFLOW_TRACKING_URI:\", mlflow.get_tracking_uri())\n"
   ]
  },
  {
   "cell_type": "code",
   "execution_count": 7,
   "metadata": {},
   "outputs": [],
   "source": [
    "from dataclasses import dataclass  # Import the dataclass decorator for creating data classes\n",
    "from pathlib import Path  # Import the Path class for handling filesystem paths\n",
    "\n",
    "@dataclass(frozen=True)  # Define the class as a dataclass and make it immutable with frozen=True\n",
    "class ModelEvaluationConfig:\n",
    "    \"\"\"\n",
    "    Configuration class for model evaluation.\n",
    "\n",
    "    Attributes:\n",
    "        root_dir (Path): The root directory where model evaluation operations will take place.\n",
    "        test_data_path (Path): The path to the testing data.\n",
    "        model_path (Path): The path to the saved model that will be evaluated.\n",
    "        all_params (dict): A dictionary containing parameters for the evaluation.\n",
    "        metric_file_name (Path): The path to the file where evaluation metrics will be saved.\n",
    "        target_column (str): The name of the target column in the dataset.\n",
    "        mlflow_uri (str): The URI for MLflow tracking.\n",
    "    \"\"\"\n",
    "    root_dir: Path\n",
    "    test_data_path: Path\n",
    "    model_path: Path\n",
    "    all_params: dict\n",
    "    metric_file_name: Path\n",
    "    target_column: str\n",
    "    mlflow_uri: str\n"
   ]
  },
  {
   "cell_type": "code",
   "execution_count": 8,
   "metadata": {},
   "outputs": [],
   "source": [
    "from mlProject.constants import *\n",
    "from mlProject.utils.common import read_yaml, create_directories, save_json"
   ]
  },
  {
   "cell_type": "code",
   "execution_count": 9,
   "metadata": {},
   "outputs": [],
   "source": [
    "class ConfigurationManager:\n",
    "    def __init__(self, config_filepath=CONFIG_FILE_PATH, params_filepath=PARAMS_FILE_PATH, schema_filepath=SCHEMA_FILE_PATH):\n",
    "        \"\"\"\n",
    "        Initialize ConfigurationManager with paths to the configuration files.\n",
    "        \n",
    "        Args:\n",
    "            config_filepath (Path): Path to the configuration YAML file.\n",
    "            params_filepath (Path): Path to the parameters YAML file.\n",
    "            schema_filepath (Path): Path to the schema YAML file.\n",
    "        \"\"\"\n",
    "        self.config = read_yaml(config_filepath)  # Read the configuration file\n",
    "        self.params = read_yaml(params_filepath)  # Read the parameters file\n",
    "        self.schema = read_yaml(schema_filepath)  # Read the schema file\n",
    "\n",
    "        create_directories([self.config.artifacts_root])  # Create the root directory for artifacts\n",
    "\n",
    "    def get_model_evaluation_config(self) -> ModelEvaluationConfig:\n",
    "        \"\"\"\n",
    "        Get the ModelEvaluationConfig object from the configuration.\n",
    "        \n",
    "        Returns:\n",
    "            ModelEvaluationConfig: Configuration for model evaluation.\n",
    "        \"\"\"\n",
    "        config = self.config.model_evaluation  # Get the model evaluation configuration section\n",
    "        params = self.params.ElasticNet  # Get the ElasticNet parameters\n",
    "        schema = self.schema.TARGET_COLUMN  # Get the target column from the schema\n",
    "\n",
    "        create_directories([config.root_dir])  # Ensure the root directory for model evaluation exists\n",
    "\n",
    "        # Create and return a ModelEvaluationConfig object with the configuration details\n",
    "        model_evaluation_config = ModelEvaluationConfig(\n",
    "            root_dir=config.root_dir,\n",
    "            test_data_path=config.test_data_path,\n",
    "            model_path=config.model_path,\n",
    "            all_params=params,\n",
    "            metric_file_name=config.metric_file_name,\n",
    "            target_column=schema.name,\n",
    "            mlflow_uri=\"https://dagshub.com/h.sahni1998/end-to-end-ML-with-MLflow.mlflow\",\n",
    "        )\n",
    "\n",
    "        return model_evaluation_config\n"
   ]
  },
  {
   "cell_type": "code",
   "execution_count": 10,
   "metadata": {},
   "outputs": [],
   "source": [
    "import os\n",
    "import pandas as pd\n",
    "from sklearn.metrics import mean_squared_error, mean_absolute_error, r2_score\n",
    "from urllib.parse import urlparse\n",
    "import mlflow\n",
    "import mlflow.sklearn\n",
    "import numpy as np\n",
    "import joblib"
   ]
  },
  {
   "cell_type": "code",
   "execution_count": 11,
   "metadata": {},
   "outputs": [],
   "source": [
    "import pandas as pd  # Import pandas for data manipulation\n",
    "import numpy as np  # Import numpy for numerical operations\n",
    "import joblib  # Import joblib for loading the model\n",
    "from sklearn.metrics import mean_squared_error, mean_absolute_error, r2_score  # Import metrics for evaluation\n",
    "import mlflow  # Import mlflow for tracking and logging\n",
    "from urllib.parse import urlparse  # Import urlparse for parsing URIs\n",
    "from pathlib import Path  # Import Path class for handling filesystem paths\n",
    "\n",
    "class ModelEvaluation:\n",
    "    def __init__(self, config: ModelEvaluationConfig):\n",
    "        \"\"\"\n",
    "        Initialize the ModelEvaluation class with a configuration.\n",
    "        \n",
    "        Args:\n",
    "            config (ModelEvaluationConfig): Configuration for model evaluation.\n",
    "        \"\"\"\n",
    "        self.config = config  # Store the configuration\n",
    "\n",
    "    def eval_metrics(self, actual, pred):\n",
    "        \"\"\"\n",
    "        Evaluate the model performance using RMSE, MAE, and R2 score.\n",
    "        \n",
    "        Args:\n",
    "            actual (array-like): Actual target values.\n",
    "            pred (array-like): Predicted target values.\n",
    "        \n",
    "        Returns:\n",
    "            tuple: RMSE, MAE, and R2 score.\n",
    "        \"\"\"\n",
    "        rmse = np.sqrt(mean_squared_error(actual, pred))\n",
    "        mae = mean_absolute_error(actual, pred)\n",
    "        r2 = r2_score(actual, pred)\n",
    "        return rmse, mae, r2\n",
    "\n",
    "    def log_into_mlflow(self):\n",
    "        \"\"\"\n",
    "        Log the model evaluation metrics and model into MLflow.\n",
    "        \"\"\"\n",
    "        # Load the test data and model\n",
    "        test_data = pd.read_csv(self.config.test_data_path)\n",
    "        model = joblib.load(self.config.model_path)\n",
    "\n",
    "        # Split the test data into features and target\n",
    "        test_x = test_data.drop([self.config.target_column], axis=1)\n",
    "        test_y = test_data[[self.config.target_column]]\n",
    "\n",
    "        # Set the MLflow tracking URI\n",
    "        mlflow.set_registry_uri(self.config.mlflow_uri)\n",
    "        tracking_url_type_store = urlparse(mlflow.get_tracking_uri()).scheme\n",
    "\n",
    "        # Start an MLflow run\n",
    "        with mlflow.start_run():\n",
    "            # Predict the target values using the loaded model\n",
    "            predicted_qualities = model.predict(test_x)\n",
    "\n",
    "            # Evaluate the model performance\n",
    "            (rmse, mae, r2) = self.eval_metrics(test_y, predicted_qualities)\n",
    "            \n",
    "            # Save metrics locally as JSON\n",
    "            scores = {\"rmse\": rmse, \"mae\": mae, \"r2\": r2}\n",
    "            save_json(path=Path(self.config.metric_file_name), data=scores)\n",
    "\n",
    "            # Log parameters and metrics to MLflow\n",
    "            mlflow.log_params(self.config.all_params)\n",
    "            mlflow.log_metric(\"rmse\", rmse)\n",
    "            mlflow.log_metric(\"r2\", r2)\n",
    "            mlflow.log_metric(\"mae\", mae)\n",
    "\n",
    "            # Log the model to MLflow\n",
    "            if tracking_url_type_store != \"file\":\n",
    "                # Register the model if not using file store\n",
    "                mlflow.sklearn.log_model(model, \"model\", registered_model_name=\"ElasticnetModel\")\n",
    "            else:\n",
    "                mlflow.sklearn.log_model(model, \"model\")\n"
   ]
  },
  {
   "cell_type": "code",
   "execution_count": 12,
   "metadata": {},
   "outputs": [
    {
     "name": "stdout",
     "output_type": "stream",
     "text": [
      "[2024-06-13 16:39:09,054: INFO: common: YAML file: config/config.yaml loaded successfully]\n",
      "[2024-06-13 16:39:09,055: INFO: common: YAML file: params.yaml loaded successfully]\n",
      "[2024-06-13 16:39:09,058: INFO: common: YAML file: schema.yaml loaded successfully]\n",
      "[2024-06-13 16:39:09,058: INFO: common: Created directory at: artifacts]\n",
      "[2024-06-13 16:39:09,059: INFO: common: Created directory at: artifacts/model_evaluation]\n",
      "[2024-06-13 16:39:09,602: INFO: common: JSON file saved at: artifacts/model_evaluation/metrics.json]\n"
     ]
    },
    {
     "name": "stderr",
     "output_type": "stream",
     "text": [
      "/home/himanshu/anaconda3/lib/python3.11/site-packages/_distutils_hack/__init__.py:33: UserWarning: Setuptools is replacing distutils.\n",
      "  warnings.warn(\"Setuptools is replacing distutils.\")\n",
      "Registered model 'ElasticnetModel' already exists. Creating a new version of this model...\n",
      "2024/06/13 16:39:17 INFO mlflow.tracking._model_registry.client: Waiting up to 300 seconds for model version to finish creation.                     Model name: ElasticnetModel, version 2\n",
      "Created version '2' of model 'ElasticnetModel'.\n"
     ]
    }
   ],
   "source": [
    "try:\n",
    "    # Initialize ConfigurationManager with default file paths\n",
    "    config = ConfigurationManager()\n",
    "    \n",
    "    # Retrieve model evaluation configuration\n",
    "    model_evaluation_config = config.get_model_evaluation_config()\n",
    "    \n",
    "    # Initialize ModelEvaluation with the retrieved configuration\n",
    "    model_evaluation = ModelEvaluation(config=model_evaluation_config)\n",
    "    \n",
    "    # Log metrics and model into MLflow\n",
    "    model_evaluation.log_into_mlflow()\n",
    "except Exception as e:\n",
    "    # Raise the exception if any error occurs\n",
    "    raise e\n"
   ]
  },
  {
   "cell_type": "code",
   "execution_count": null,
   "metadata": {},
   "outputs": [],
   "source": []
  }
 ],
 "metadata": {
  "kernelspec": {
   "display_name": "base",
   "language": "python",
   "name": "python3"
  },
  "language_info": {
   "codemirror_mode": {
    "name": "ipython",
    "version": 3
   },
   "file_extension": ".py",
   "mimetype": "text/x-python",
   "name": "python",
   "nbconvert_exporter": "python",
   "pygments_lexer": "ipython3",
   "version": "3.1.-1"
  }
 },
 "nbformat": 4,
 "nbformat_minor": 2
}
