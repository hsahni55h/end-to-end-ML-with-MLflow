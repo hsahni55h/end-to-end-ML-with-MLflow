{
 "cells": [
  {
   "cell_type": "code",
   "execution_count": 1,
   "metadata": {},
   "outputs": [],
   "source": [
    "import os"
   ]
  },
  {
   "cell_type": "code",
   "execution_count": 2,
   "metadata": {},
   "outputs": [
    {
     "data": {
      "text/plain": [
       "'/home/himanshu/github_himanshu/end-to-end-ML-with-MLflow/research'"
      ]
     },
     "execution_count": 2,
     "metadata": {},
     "output_type": "execute_result"
    }
   ],
   "source": [
    "%pwd"
   ]
  },
  {
   "cell_type": "code",
   "execution_count": 3,
   "metadata": {},
   "outputs": [],
   "source": [
    "os.chdir(\"../\")"
   ]
  },
  {
   "cell_type": "code",
   "execution_count": 4,
   "metadata": {},
   "outputs": [
    {
     "data": {
      "text/plain": [
       "'/home/himanshu/github_himanshu/end-to-end-ML-with-MLflow'"
      ]
     },
     "execution_count": 4,
     "metadata": {},
     "output_type": "execute_result"
    }
   ],
   "source": [
    "%pwd"
   ]
  },
  {
   "cell_type": "code",
   "execution_count": 5,
   "metadata": {},
   "outputs": [],
   "source": [
    "from dataclasses import dataclass  # Import the dataclass decorator for creating data classes\n",
    "from pathlib import Path  # Import the Path class for handling filesystem paths\n",
    "\n",
    "@dataclass(frozen=True)  # Define the class as a dataclass and make it immutable with frozen=True\n",
    "class ModelTrainerConfig:\n",
    "    \"\"\"\n",
    "    Configuration class for model training.\n",
    "\n",
    "    Attributes:\n",
    "        root_dir (Path): The root directory where model training operations will take place.\n",
    "        train_data_path (Path): The path to the training data.\n",
    "        test_data_path (Path): The path to the testing data.\n",
    "        model_name (str): The name of the model to be trained.\n",
    "        alpha (float): The regularization strength parameter for the model.\n",
    "        l1_ratio (float): The ElasticNet mixing parameter.\n",
    "        target_column (str): The name of the target column in the dataset.\n",
    "    \"\"\"\n",
    "    root_dir: Path\n",
    "    train_data_path: Path\n",
    "    test_data_path: Path\n",
    "    model_name: str\n",
    "    alpha: float\n",
    "    l1_ratio: float\n",
    "    target_column: str\n"
   ]
  },
  {
   "cell_type": "code",
   "execution_count": 6,
   "metadata": {},
   "outputs": [],
   "source": [
    "from mlProject.constants import *\n",
    "from mlProject.utils.common import read_yaml, create_directories"
   ]
  },
  {
   "cell_type": "code",
   "execution_count": 7,
   "metadata": {},
   "outputs": [],
   "source": [
    "class ConfigurationManager:\n",
    "    def __init__(self, config_filepath=CONFIG_FILE_PATH, params_filepath=PARAMS_FILE_PATH, schema_filepath=SCHEMA_FILE_PATH):\n",
    "        \"\"\"\n",
    "        Initialize ConfigurationManager with paths to the configuration files.\n",
    "        \n",
    "        Args:\n",
    "            config_filepath (Path): Path to the configuration YAML file.\n",
    "            params_filepath (Path): Path to the parameters YAML file.\n",
    "            schema_filepath (Path): Path to the schema YAML file.\n",
    "        \"\"\"\n",
    "        self.config = read_yaml(config_filepath)  # Read the configuration file\n",
    "        self.params = read_yaml(params_filepath)  # Read the parameters file\n",
    "        self.schema = read_yaml(schema_filepath)  # Read the schema file\n",
    "\n",
    "        create_directories([self.config.artifacts_root])  # Create the root directory for artifacts\n",
    "\n",
    "    def get_model_trainer_config(self) -> ModelTrainerConfig:\n",
    "        \"\"\"\n",
    "        Get the ModelTrainerConfig object from the configuration.\n",
    "        \n",
    "        Returns:\n",
    "            ModelTrainerConfig: Configuration for model training.\n",
    "        \"\"\"\n",
    "        config = self.config.model_trainer  # Get the model trainer configuration section\n",
    "        params = self.params.ElasticNet  # Get the ElasticNet parameters\n",
    "        schema = self.schema.TARGET_COLUMN  # Get the target column from the schema\n",
    "\n",
    "        create_directories([config.root_dir])  # Ensure the root directory for model training exists\n",
    "\n",
    "        # Create and return a ModelTrainerConfig object with the configuration details\n",
    "        model_trainer_config = ModelTrainerConfig(\n",
    "            root_dir=config.root_dir,\n",
    "            train_data_path=config.train_data_path,\n",
    "            test_data_path=config.test_data_path,\n",
    "            model_name=config.model_name,\n",
    "            alpha=params.alpha,\n",
    "            l1_ratio=params.l1_ratio,\n",
    "            target_column=schema.name\n",
    "        )\n",
    "\n",
    "        return model_trainer_config\n"
   ]
  },
  {
   "cell_type": "code",
   "execution_count": 8,
   "metadata": {},
   "outputs": [
    {
     "name": "stdout",
     "output_type": "stream",
     "text": [
      "[2024-06-13 14:44:38,670: INFO: utils: Note: NumExpr detected 12 cores but \"NUMEXPR_MAX_THREADS\" not set, so enforcing safe limit of 8.]\n",
      "[2024-06-13 14:44:38,671: INFO: utils: NumExpr defaulting to 8 threads.]\n"
     ]
    }
   ],
   "source": [
    "import pandas as pd\n",
    "import os\n",
    "from mlProject import logger\n",
    "from sklearn.linear_model import ElasticNet\n",
    "import joblib"
   ]
  },
  {
   "cell_type": "code",
   "execution_count": 9,
   "metadata": {},
   "outputs": [],
   "source": [
    "import pandas as pd  # Import pandas for data manipulation\n",
    "from sklearn.linear_model import ElasticNet  # Import ElasticNet for regression\n",
    "import joblib  # Import joblib for saving the model\n",
    "import os  # Import os for operating system functionalities\n",
    "\n",
    "class ModelTrainer:\n",
    "    def __init__(self, config: ModelTrainerConfig):\n",
    "        \"\"\"\n",
    "        Initialize the ModelTrainer class with a configuration.\n",
    "        \n",
    "        Args:\n",
    "            config (ModelTrainerConfig): Configuration for model training.\n",
    "        \"\"\"\n",
    "        self.config = config  # Store the configuration\n",
    "\n",
    "    def train(self):\n",
    "        \"\"\"\n",
    "        Train the ElasticNet model using the training data and save the model.\n",
    "        \"\"\"\n",
    "        # Load the training and testing data from the specified paths\n",
    "        train_data = pd.read_csv(self.config.train_data_path)\n",
    "        test_data = pd.read_csv(self.config.test_data_path)\n",
    "\n",
    "        # Split the data into features (X) and target (y) for training and testing\n",
    "        train_x = train_data.drop([self.config.target_column], axis=1)\n",
    "        test_x = test_data.drop([self.config.target_column], axis=1)\n",
    "        train_y = train_data[[self.config.target_column]]\n",
    "        test_y = test_data[[self.config.target_column]]\n",
    "\n",
    "        # Initialize the ElasticNet model with the specified alpha and l1_ratio\n",
    "        lr = ElasticNet(alpha=self.config.alpha, l1_ratio=self.config.l1_ratio, random_state=42)\n",
    "        \n",
    "        # Fit the model to the training data\n",
    "        lr.fit(train_x, train_y)\n",
    "\n",
    "        # Save the trained model to the specified path\n",
    "        joblib.dump(lr, os.path.join(self.config.root_dir, self.config.model_name))\n"
   ]
  },
  {
   "cell_type": "code",
   "execution_count": 10,
   "metadata": {},
   "outputs": [
    {
     "name": "stdout",
     "output_type": "stream",
     "text": [
      "[2024-06-13 14:44:39,335: INFO: common: YAML file: config/config.yaml loaded successfully]\n",
      "[2024-06-13 14:44:39,337: INFO: common: YAML file: params.yaml loaded successfully]\n",
      "[2024-06-13 14:44:39,339: INFO: common: YAML file: schema.yaml loaded successfully]\n",
      "[2024-06-13 14:44:39,341: INFO: common: Created directory at: artifacts]\n",
      "[2024-06-13 14:44:39,342: INFO: common: Created directory at: artifacts/model_trainer]\n"
     ]
    }
   ],
   "source": [
    "try:\n",
    "    # Initialize ConfigurationManager with default file paths\n",
    "    config = ConfigurationManager()\n",
    "    \n",
    "    # Retrieve model trainer configuration\n",
    "    model_trainer_config = config.get_model_trainer_config()\n",
    "    \n",
    "    # Initialize ModelTrainer with the retrieved configuration\n",
    "    model_trainer = ModelTrainer(config=model_trainer_config)\n",
    "    \n",
    "    # Train the model\n",
    "    model_trainer.train()\n",
    "except Exception as e:\n",
    "    # Raise the exception if any error occurs\n",
    "    raise e\n"
   ]
  },
  {
   "cell_type": "code",
   "execution_count": null,
   "metadata": {},
   "outputs": [],
   "source": []
  }
 ],
 "metadata": {
  "kernelspec": {
   "display_name": "base",
   "language": "python",
   "name": "python3"
  },
  "language_info": {
   "codemirror_mode": {
    "name": "ipython",
    "version": 3
   },
   "file_extension": ".py",
   "mimetype": "text/x-python",
   "name": "python",
   "nbconvert_exporter": "python",
   "pygments_lexer": "ipython3",
   "version": "3.11.5"
  }
 },
 "nbformat": 4,
 "nbformat_minor": 2
}
