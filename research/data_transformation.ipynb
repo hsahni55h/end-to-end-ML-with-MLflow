{
 "cells": [
  {
   "cell_type": "code",
   "execution_count": 2,
   "metadata": {},
   "outputs": [],
   "source": [
    "import os"
   ]
  },
  {
   "cell_type": "code",
   "execution_count": 3,
   "metadata": {},
   "outputs": [
    {
     "data": {
      "text/plain": [
       "'/home/himanshu/github_himanshu/end-to-end-ML-with-MLflow/research'"
      ]
     },
     "execution_count": 3,
     "metadata": {},
     "output_type": "execute_result"
    }
   ],
   "source": [
    "%pwd"
   ]
  },
  {
   "cell_type": "code",
   "execution_count": 4,
   "metadata": {},
   "outputs": [],
   "source": [
    "os.chdir(\"../\")"
   ]
  },
  {
   "cell_type": "code",
   "execution_count": 5,
   "metadata": {},
   "outputs": [
    {
     "data": {
      "text/plain": [
       "'/home/himanshu/github_himanshu/end-to-end-ML-with-MLflow'"
      ]
     },
     "execution_count": 5,
     "metadata": {},
     "output_type": "execute_result"
    }
   ],
   "source": [
    "%pwd"
   ]
  },
  {
   "cell_type": "code",
   "execution_count": 6,
   "metadata": {},
   "outputs": [],
   "source": [
    "from dataclasses import dataclass  # Import the dataclass decorator for creating data classes\n",
    "from pathlib import Path  # Import the Path class for handling filesystem paths\n",
    "\n",
    "@dataclass(frozen=True)  # Define the class as a dataclass and make it immutable with frozen=True\n",
    "class DataTransformationConfig:\n",
    "    \"\"\"\n",
    "    Configuration class for data transformation.\n",
    "\n",
    "    Attributes:\n",
    "        root_dir (Path): The root directory where data transformation operations will take place.\n",
    "        data_path (Path): The path to the data that will be transformed.\n",
    "    \"\"\"\n",
    "    root_dir: Path\n",
    "    data_path: Path\n"
   ]
  },
  {
   "cell_type": "code",
   "execution_count": 7,
   "metadata": {},
   "outputs": [],
   "source": [
    "from mlProject.constants import *\n",
    "from mlProject.utils.common import read_yaml, create_directories"
   ]
  },
  {
   "cell_type": "code",
   "execution_count": 8,
   "metadata": {},
   "outputs": [],
   "source": [
    "class ConfigurationManager:\n",
    "    def __init__(\n",
    "        self,\n",
    "        config_filepath = CONFIG_FILE_PATH,\n",
    "        params_filepath = PARAMS_FILE_PATH,\n",
    "        schema_filepath = SCHEMA_FILE_PATH):\n",
    "\n",
    "        self.config = read_yaml(config_filepath)\n",
    "        self.params = read_yaml(params_filepath)\n",
    "        self.schema = read_yaml(schema_filepath)\n",
    "\n",
    "        create_directories([self.config.artifacts_root])\n",
    "\n",
    "    def get_data_transformation_config(self) -> DataTransformationConfig:\n",
    "        config = self.config.data_transformation\n",
    "\n",
    "        create_directories([config.root_dir])\n",
    "\n",
    "        data_transformation_config = DataTransformationConfig(\n",
    "            root_dir=config.root_dir,\n",
    "            data_path=config.data_path,\n",
    "        )\n",
    "\n",
    "        return data_transformation_config"
   ]
  },
  {
   "cell_type": "code",
   "execution_count": 9,
   "metadata": {},
   "outputs": [
    {
     "name": "stdout",
     "output_type": "stream",
     "text": [
      "[2024-06-13 13:15:48,954: INFO: utils: Note: NumExpr detected 12 cores but \"NUMEXPR_MAX_THREADS\" not set, so enforcing safe limit of 8.]\n",
      "[2024-06-13 13:15:48,955: INFO: utils: NumExpr defaulting to 8 threads.]\n"
     ]
    }
   ],
   "source": [
    "import os\n",
    "from mlProject import logger\n",
    "from sklearn.model_selection import train_test_split\n",
    "import pandas as pd "
   ]
  },
  {
   "cell_type": "code",
   "execution_count": 10,
   "metadata": {},
   "outputs": [],
   "source": [
    "class ConfigurationManager:\n",
    "    def __init__(self, config_filepath=CONFIG_FILE_PATH, params_filepath=PARAMS_FILE_PATH, schema_filepath=SCHEMA_FILE_PATH):\n",
    "        \"\"\"\n",
    "        Initialize ConfigurationManager with paths to the configuration files.\n",
    "        \n",
    "        Args:\n",
    "            config_filepath (Path): Path to the configuration YAML file.\n",
    "            params_filepath (Path): Path to the parameters YAML file.\n",
    "            schema_filepath (Path): Path to the schema YAML file.\n",
    "        \"\"\"\n",
    "        self.config = read_yaml(config_filepath)  # Read the configuration file\n",
    "        self.params = read_yaml(params_filepath)  # Read the parameters file\n",
    "        self.schema = read_yaml(schema_filepath)  # Read the schema file\n",
    "\n",
    "        create_directories([self.config.artifacts_root])  # Create the root directory for artifacts\n",
    "\n",
    "    def get_data_transformation_config(self) -> DataTransformationConfig:\n",
    "        \"\"\"\n",
    "        Get the DataTransformationConfig object from the configuration.\n",
    "        \n",
    "        Returns:\n",
    "            DataTransformationConfig: Configuration for data transformation.\n",
    "        \"\"\"\n",
    "        config = self.config.data_transformation  # Get the data transformation configuration section\n",
    "\n",
    "        create_directories([config.root_dir])  # Ensure the root directory for data transformation exists\n",
    "\n",
    "        # Create and return a DataTransformationConfig object with the configuration details\n",
    "        data_transformation_config = DataTransformationConfig(\n",
    "            root_dir=config.root_dir,\n",
    "            data_path=config.data_path,\n",
    "        )\n",
    "\n",
    "        return data_transformation_config\n"
   ]
  },
  {
   "cell_type": "code",
   "execution_count": 11,
   "metadata": {},
   "outputs": [
    {
     "name": "stdout",
     "output_type": "stream",
     "text": [
      "[2024-06-13 13:17:58,594: INFO: common: YAML file: config/config.yaml loaded successfully]\n",
      "[2024-06-13 13:17:58,597: INFO: common: YAML file: params.yaml loaded successfully]\n",
      "[2024-06-13 13:17:58,600: INFO: common: YAML file: schema.yaml loaded successfully]\n",
      "[2024-06-13 13:17:58,601: INFO: common: Created directory at: artifacts]\n",
      "[2024-06-13 13:17:58,602: INFO: common: Created directory at: artifacts/data_transformation]\n",
      "[2024-06-13 13:17:58,633: INFO: 602995403: Splited data into training and test sets]\n",
      "[2024-06-13 13:17:58,635: INFO: 602995403: (1199, 12)]\n",
      "[2024-06-13 13:17:58,636: INFO: 602995403: (400, 12)]\n",
      "(1199, 12)\n",
      "(400, 12)\n"
     ]
    }
   ],
   "source": [
    "try:\n",
    "    # Initialize ConfigurationManager with default file paths\n",
    "    config = ConfigurationManager()\n",
    "    \n",
    "    # Retrieve data transformation configuration\n",
    "    data_transformation_config = config.get_data_transformation_config()\n",
    "    \n",
    "    # Initialize DataTransformation with the retrieved configuration\n",
    "    data_transformation = DataTransformation(config=data_transformation_config)\n",
    "    \n",
    "    # Perform train-test splitting\n",
    "    data_transformation.train_test_spliting()\n",
    "except Exception as e:\n",
    "    # Raise the exception if any error occurs\n",
    "    raise e\n"
   ]
  },
  {
   "cell_type": "code",
   "execution_count": null,
   "metadata": {},
   "outputs": [],
   "source": []
  }
 ],
 "metadata": {
  "kernelspec": {
   "display_name": "base",
   "language": "python",
   "name": "python3"
  },
  "language_info": {
   "codemirror_mode": {
    "name": "ipython",
    "version": 3
   },
   "file_extension": ".py",
   "mimetype": "text/x-python",
   "name": "python",
   "nbconvert_exporter": "python",
   "pygments_lexer": "ipython3",
   "version": "3.11.5"
  }
 },
 "nbformat": 4,
 "nbformat_minor": 2
}
