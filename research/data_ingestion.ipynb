{
 "cells": [
  {
   "cell_type": "code",
   "execution_count": 1,
   "metadata": {},
   "outputs": [],
   "source": [
    "import os"
   ]
  },
  {
   "cell_type": "code",
   "execution_count": 2,
   "metadata": {},
   "outputs": [
    {
     "data": {
      "text/plain": [
       "'/home/himanshu/github_himanshu/end-to-end-ML-with-MLflow/research'"
      ]
     },
     "execution_count": 2,
     "metadata": {},
     "output_type": "execute_result"
    }
   ],
   "source": [
    "%pwd"
   ]
  },
  {
   "cell_type": "code",
   "execution_count": 3,
   "metadata": {},
   "outputs": [],
   "source": [
    "os.chdir(\"../\")"
   ]
  },
  {
   "cell_type": "code",
   "execution_count": 4,
   "metadata": {},
   "outputs": [
    {
     "data": {
      "text/plain": [
       "'/home/himanshu/github_himanshu/end-to-end-ML-with-MLflow'"
      ]
     },
     "execution_count": 4,
     "metadata": {},
     "output_type": "execute_result"
    }
   ],
   "source": [
    "%pwd"
   ]
  },
  {
   "cell_type": "code",
   "execution_count": 5,
   "metadata": {},
   "outputs": [],
   "source": [
    "from dataclasses import dataclass  # Import the dataclass decorator for creating data classes\n",
    "from pathlib import Path  # Import the Path class for handling filesystem paths\n",
    "\n",
    "@dataclass(frozen=True)  # Define the class as a dataclass and make it immutable with frozen=True\n",
    "class DataIngestionConfig:\n",
    "    # Configuration class for data ingestion process\n",
    "    root_dir: Path  # The root directory where data ingestion operations will take place\n",
    "    source_URL: str  # The URL from which the data will be downloaded\n",
    "    local_data_file: Path  # The local path where the downloaded data will be stored\n",
    "    unzip_dir: Path  # The directory where the downloaded data will be unzipped\n"
   ]
  },
  {
   "cell_type": "code",
   "execution_count": 7,
   "metadata": {},
   "outputs": [],
   "source": [
    "from mlProject.constants import *\n",
    "from mlProject.utils.common import read_yaml, create_directories"
   ]
  },
  {
   "cell_type": "code",
   "execution_count": 8,
   "metadata": {},
   "outputs": [],
   "source": [
    "class ConfigurationManager:\n",
    "    def __init__(self, config_filepath=CONFIG_FILE_PATH, params_filepath=PARAMS_FILE_PATH, schema_filepath=SCHEMA_FILE_PATH):\n",
    "        \"\"\"\n",
    "        Initialize ConfigurationManager with paths to the configuration files.\n",
    "        \n",
    "        Args:\n",
    "            config_filepath (Path): Path to the configuration YAML file.\n",
    "            params_filepath (Path): Path to the parameters YAML file.\n",
    "            schema_filepath (Path): Path to the schema YAML file.\n",
    "        \"\"\"\n",
    "        self.config = read_yaml(config_filepath)  # Read the configuration file\n",
    "        self.params = read_yaml(params_filepath)  # Read the parameters file\n",
    "        self.schema = read_yaml(schema_filepath)  # Read the schema file\n",
    "\n",
    "        create_directories([self.config.artifacts_root])  # Create the root directory for artifacts\n",
    "    \n",
    "    def get_data_ingestion_config(self) -> DataIngestionConfig:\n",
    "        \"\"\"\n",
    "        Get the DataIngestionConfig object from the configuration.\n",
    "        \n",
    "        Returns:\n",
    "            DataIngestionConfig: Configuration for data ingestion.\n",
    "        \"\"\"\n",
    "        config = self.config.data_ingestion  # Get the data ingestion configuration section\n",
    "\n",
    "        create_directories([config.root_dir])  # Ensure the root directory for data ingestion exists\n",
    "\n",
    "        # Create and return a DataIngestionConfig object with the configuration details\n",
    "        data_ingestion_config = DataIngestionConfig(\n",
    "            root_dir=config.root_dir,\n",
    "            source_URL=config.source_URL,\n",
    "            local_data_file=config.local_data_file,\n",
    "            unzip_dir=config.unzip_dir \n",
    "        )\n",
    "\n",
    "        return data_ingestion_config\n"
   ]
  },
  {
   "cell_type": "code",
   "execution_count": 9,
   "metadata": {},
   "outputs": [],
   "source": [
    "import os\n",
    "import urllib.request as request\n",
    "import zipfile\n",
    "from mlProject import logger\n",
    "from mlProject.utils.common import get_size"
   ]
  },
  {
   "cell_type": "code",
   "execution_count": 10,
   "metadata": {},
   "outputs": [],
   "source": [
    "class DataIngestion:\n",
    "    def __init__(self, config: DataIngestionConfig):\n",
    "        \"\"\"\n",
    "        Initialize the DataIngestion class with a configuration.\n",
    "        \n",
    "        Args:\n",
    "            config (DataIngestionConfig): Configuration for data ingestion.\n",
    "        \"\"\"\n",
    "        self.config = config  # Store the configuration\n",
    "\n",
    "    def download_file(self):\n",
    "        \"\"\"\n",
    "        Downloads the file from the source URL if it does not already exist locally.\n",
    "        \"\"\"\n",
    "        if not os.path.exists(self.config.local_data_file):\n",
    "            # If the file does not exist, download it from the source URL\n",
    "            filename, headers = request.urlretrieve(\n",
    "                url=self.config.source_URL,\n",
    "                filename=self.config.local_data_file\n",
    "            )\n",
    "            logger.info(f\"{filename} downloaded! with following info: \\n{headers}\")\n",
    "        else:\n",
    "            # If the file already exists, log its size\n",
    "            logger.info(f\"File already exists of size: {get_size(Path(self.config.local_data_file))}\")\n",
    "\n",
    "    def extract_zip_file(self):\n",
    "        \"\"\"\n",
    "        Extracts the zip file into the unzip directory.\n",
    "        \"\"\"\n",
    "        unzip_path = self.config.unzip_dir  # Get the directory where the zip file will be extracted\n",
    "        os.makedirs(unzip_path, exist_ok=True)  # Ensure the unzip directory exists\n",
    "        with zipfile.ZipFile(self.config.local_data_file, 'r') as zip_ref:\n",
    "            zip_ref.extractall(unzip_path)  # Extract all contents of the zip file into the unzip directory\n"
   ]
  },
  {
   "cell_type": "code",
   "execution_count": 12,
   "metadata": {},
   "outputs": [
    {
     "name": "stdout",
     "output_type": "stream",
     "text": [
      "[2024-06-11 17:00:17,161: INFO: common: YAML file: config/config.yaml loaded successfully]\n",
      "[2024-06-11 17:00:17,162: INFO: common: YAML file: params.yaml loaded successfully]\n",
      "[2024-06-11 17:00:17,163: INFO: common: YAML file: schema.yaml loaded successfully]\n",
      "[2024-06-11 17:00:17,163: INFO: common: Created directory at: artifacts]\n",
      "[2024-06-11 17:00:17,164: INFO: common: Created directory at: artifacts/data_ingestion]\n",
      "[2024-06-11 17:00:17,739: INFO: 1192957093: artifacts/data_ingestion/data.zip download! with following info: \n",
      "Connection: close\n",
      "Content-Length: 23329\n",
      "Cache-Control: max-age=300\n",
      "Content-Security-Policy: default-src 'none'; style-src 'unsafe-inline'; sandbox\n",
      "Content-Type: application/zip\n",
      "ETag: \"c69888a4ae59bc5a893392785a938ccd4937981c06ba8a9d6a21aa52b4ab5b6e\"\n",
      "Strict-Transport-Security: max-age=31536000\n",
      "X-Content-Type-Options: nosniff\n",
      "X-Frame-Options: deny\n",
      "X-XSS-Protection: 1; mode=block\n",
      "X-GitHub-Request-Id: 1675:3CF6DF:8F95E6:96D06D:66686681\n",
      "Accept-Ranges: bytes\n",
      "Date: Tue, 11 Jun 2024 15:00:17 GMT\n",
      "Via: 1.1 varnish\n",
      "X-Served-By: cache-bma1668-BMA\n",
      "X-Cache: MISS\n",
      "X-Cache-Hits: 0\n",
      "X-Timer: S1718118018.517398,VS0,VE192\n",
      "Vary: Authorization,Accept-Encoding,Origin\n",
      "Access-Control-Allow-Origin: *\n",
      "Cross-Origin-Resource-Policy: cross-origin\n",
      "X-Fastly-Request-ID: ecf3df23692efeb37d9a096731983db9d09cda60\n",
      "Expires: Tue, 11 Jun 2024 15:05:17 GMT\n",
      "Source-Age: 0\n",
      "\n",
      "]\n"
     ]
    }
   ],
   "source": [
    "try:\n",
    "    config = ConfigurationManager()  # Initialize ConfigurationManager with default file paths\n",
    "    data_ingestion_config = config.get_data_ingestion_config()  # Retrieve data ingestion configuration\n",
    "    data_ingestion = DataIngestion(config=data_ingestion_config)  # Initialize DataIngestion with the config\n",
    "    data_ingestion.download_file()  # Download the data file\n",
    "    data_ingestion.extract_zip_file()  # Extract the downloaded zip file\n",
    "except Exception as e:\n",
    "    raise e  # Raise the exception if any error occurs\n"
   ]
  },
  {
   "cell_type": "code",
   "execution_count": null,
   "metadata": {},
   "outputs": [],
   "source": []
  }
 ],
 "metadata": {
  "kernelspec": {
   "display_name": "base",
   "language": "python",
   "name": "python3"
  },
  "language_info": {
   "codemirror_mode": {
    "name": "ipython",
    "version": 3
   },
   "file_extension": ".py",
   "mimetype": "text/x-python",
   "name": "python",
   "nbconvert_exporter": "python",
   "pygments_lexer": "ipython3",
   "version": "3.11.5"
  }
 },
 "nbformat": 4,
 "nbformat_minor": 2
}
